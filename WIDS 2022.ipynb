{
  "cells": [
    {
      "attachments": {},
      "cell_type": "markdown",
      "metadata": {
        "id": "BsCifK-oQb5c"
      },
      "source": [
        "# WIDS 2022"
      ]
    },
    {
      "cell_type": "code",
      "execution_count": null,
      "metadata": {
        "_cell_guid": "b1076dfc-b9ad-4769-8c92-a6c4dae69d19",
        "_uuid": "8f2839f25d086af736a60e9eeb907d3b93b6e0e5",
        "execution": {
          "iopub.execute_input": "2022-02-26T17:10:38.071105Z",
          "iopub.status.busy": "2022-02-26T17:10:38.070251Z",
          "iopub.status.idle": "2022-02-26T17:10:38.085257Z",
          "shell.execute_reply": "2022-02-26T17:10:38.084513Z",
          "shell.execute_reply.started": "2022-02-26T17:10:38.071058Z"
        },
        "id": "277HhZKVQb5g",
        "trusted": true
      },
      "outputs": [],
      "source": [
        "import pandas as pd\n",
        "from sklearn import preprocessing\n",
        "import numpy as np\n",
        "import lightgbm as lgb\n",
        "import gc\n",
        "from sklearn.model_selection import StratifiedKFold\n",
        "from sklearn.model_selection import KFold\n",
        "from sklearn.model_selection import GroupKFold\n",
        "from sklearn.metrics import mean_squared_error\n",
        "from sklearn.metrics import mean_absolute_error\n",
        "\n",
        "\n",
        "import os\n",
        "for dirname, _, filenames in os.walk('/kaggle/input'):\n",
        "    for filename in filenames:\n",
        "        print(os.path.join(dirname, filename))\n"
      ]
    },
    {
      "cell_type": "code",
      "execution_count": null,
      "metadata": {
        "execution": {
          "iopub.execute_input": "2022-02-26T17:10:38.087933Z",
          "iopub.status.busy": "2022-02-26T17:10:38.087252Z",
          "iopub.status.idle": "2022-02-26T17:10:38.551003Z",
          "shell.execute_reply": "2022-02-26T17:10:38.550262Z",
          "shell.execute_reply.started": "2022-02-26T17:10:38.087905Z"
        },
        "id": "rxPwNHlyQb5h",
        "trusted": true
      },
      "outputs": [],
      "source": [
        "df_train=pd.read_csv('/kaggle/input/widsdatathon2022/train.csv')\n",
        "\n",
        "df_test=pd.read_csv('/kaggle/input/widsdatathon2022/test.csv')"
      ]
    },
    {
      "cell_type": "code",
      "execution_count": null,
      "metadata": {
        "execution": {
          "iopub.execute_input": "2022-02-26T17:10:38.552388Z",
          "iopub.status.busy": "2022-02-26T17:10:38.552143Z",
          "iopub.status.idle": "2022-02-26T17:10:38.557276Z",
          "shell.execute_reply": "2022-02-26T17:10:38.556637Z",
          "shell.execute_reply.started": "2022-02-26T17:10:38.552354Z"
        },
        "id": "vrtYfO0DQb5i",
        "trusted": true
      },
      "outputs": [],
      "source": [
        "len(df_train)"
      ]
    },
    {
      "cell_type": "code",
      "execution_count": null,
      "metadata": {
        "execution": {
          "iopub.execute_input": "2022-02-26T17:10:38.559534Z",
          "iopub.status.busy": "2022-02-26T17:10:38.559130Z",
          "iopub.status.idle": "2022-02-26T17:10:38.568685Z",
          "shell.execute_reply": "2022-02-26T17:10:38.567945Z",
          "shell.execute_reply.started": "2022-02-26T17:10:38.559498Z"
        },
        "id": "u5Ucbv4iQb5i",
        "trusted": true
      },
      "outputs": [],
      "source": [
        "len(df_test)"
      ]
    },
    {
      "cell_type": "code",
      "execution_count": null,
      "metadata": {
        "execution": {
          "iopub.execute_input": "2022-02-26T17:10:38.570532Z",
          "iopub.status.busy": "2022-02-26T17:10:38.570074Z",
          "iopub.status.idle": "2022-02-26T17:10:38.607602Z",
          "shell.execute_reply": "2022-02-26T17:10:38.606861Z",
          "shell.execute_reply.started": "2022-02-26T17:10:38.570496Z"
        },
        "id": "_88Q4PC-Qb5i",
        "trusted": true
      },
      "outputs": [],
      "source": [
        "df_train.isnull().mean()"
      ]
    },
    {
      "cell_type": "code",
      "execution_count": null,
      "metadata": {
        "execution": {
          "iopub.execute_input": "2022-02-26T17:10:38.609166Z",
          "iopub.status.busy": "2022-02-26T17:10:38.608918Z",
          "iopub.status.idle": "2022-02-26T17:10:38.620147Z",
          "shell.execute_reply": "2022-02-26T17:10:38.619355Z",
          "shell.execute_reply.started": "2022-02-26T17:10:38.609127Z"
        },
        "id": "7E9khiSgQb5j",
        "trusted": true
      },
      "outputs": [],
      "source": [
        "df_train['site_eui'].describe()"
      ]
    },
    {
      "cell_type": "code",
      "execution_count": null,
      "metadata": {
        "execution": {
          "iopub.execute_input": "2022-02-26T17:10:38.621716Z",
          "iopub.status.busy": "2022-02-26T17:10:38.621449Z",
          "iopub.status.idle": "2022-02-26T17:10:38.630012Z",
          "shell.execute_reply": "2022-02-26T17:10:38.629130Z",
          "shell.execute_reply.started": "2022-02-26T17:10:38.621681Z"
        },
        "id": "oqHJycVCQb5j",
        "trusted": true
      },
      "outputs": [],
      "source": [
        "df_train['Year_Factor'].value_counts()"
      ]
    },
    {
      "cell_type": "code",
      "execution_count": null,
      "metadata": {
        "execution": {
          "iopub.execute_input": "2022-02-26T17:10:38.632071Z",
          "iopub.status.busy": "2022-02-26T17:10:38.631591Z",
          "iopub.status.idle": "2022-02-26T17:10:38.640829Z",
          "shell.execute_reply": "2022-02-26T17:10:38.640062Z",
          "shell.execute_reply.started": "2022-02-26T17:10:38.632038Z"
        },
        "id": "vHhUbq21Qb5j",
        "trusted": true
      },
      "outputs": [],
      "source": [
        "df_test['Year_Factor'].value_counts()"
      ]
    },
    {
      "cell_type": "code",
      "execution_count": null,
      "metadata": {
        "execution": {
          "iopub.execute_input": "2022-02-26T17:10:38.644885Z",
          "iopub.status.busy": "2022-02-26T17:10:38.644707Z",
          "iopub.status.idle": "2022-02-26T17:10:38.651000Z",
          "shell.execute_reply": "2022-02-26T17:10:38.650099Z",
          "shell.execute_reply.started": "2022-02-26T17:10:38.644863Z"
        },
        "id": "krQg-RB8Qb5k",
        "trusted": true
      },
      "outputs": [],
      "source": [
        "df_test['Year_Factor'].value_counts()"
      ]
    },
    {
      "cell_type": "code",
      "execution_count": null,
      "metadata": {
        "execution": {
          "iopub.execute_input": "2022-02-26T17:10:38.652980Z",
          "iopub.status.busy": "2022-02-26T17:10:38.652674Z",
          "iopub.status.idle": "2022-02-26T17:10:38.669155Z",
          "shell.execute_reply": "2022-02-26T17:10:38.668499Z",
          "shell.execute_reply.started": "2022-02-26T17:10:38.652942Z"
        },
        "id": "7hAcpOZJQb5k",
        "trusted": true
      },
      "outputs": [],
      "source": [
        "df_test.isnull().mean()"
      ]
    },
    {
      "cell_type": "code",
      "execution_count": null,
      "metadata": {
        "execution": {
          "iopub.execute_input": "2022-02-26T17:10:38.670580Z",
          "iopub.status.busy": "2022-02-26T17:10:38.670336Z",
          "iopub.status.idle": "2022-02-26T17:10:38.718363Z",
          "shell.execute_reply": "2022-02-26T17:10:38.717557Z",
          "shell.execute_reply.started": "2022-02-26T17:10:38.670547Z"
        },
        "id": "jd3bgdMFQb5k",
        "trusted": true
      },
      "outputs": [],
      "source": [
        "df_train"
      ]
    },
    {
      "cell_type": "code",
      "execution_count": null,
      "metadata": {
        "execution": {
          "iopub.execute_input": "2022-02-26T17:10:38.720118Z",
          "iopub.status.busy": "2022-02-26T17:10:38.719862Z",
          "iopub.status.idle": "2022-02-26T17:10:38.752226Z",
          "shell.execute_reply": "2022-02-26T17:10:38.751461Z",
          "shell.execute_reply.started": "2022-02-26T17:10:38.720083Z"
        },
        "id": "WqWa8cDCQb5k",
        "trusted": true
      },
      "outputs": [],
      "source": [
        "df_test"
      ]
    },
    {
      "cell_type": "code",
      "execution_count": null,
      "metadata": {
        "execution": {
          "iopub.execute_input": "2022-02-26T17:10:38.753964Z",
          "iopub.status.busy": "2022-02-26T17:10:38.753701Z",
          "iopub.status.idle": "2022-02-26T17:10:38.776419Z",
          "shell.execute_reply": "2022-02-26T17:10:38.775654Z",
          "shell.execute_reply.started": "2022-02-26T17:10:38.753928Z"
        },
        "id": "RwojH-wLQb5l",
        "trusted": true
      },
      "outputs": [],
      "source": [
        "def entrena_lgb(data,test,features,categorical,target):\n",
        "\n",
        "    kfold=GroupKFold(n_splits=6)\n",
        "\n",
        "\n",
        "    i=1\n",
        "\n",
        "    r=[]\n",
        "    \n",
        "    pred_test=np.zeros(len(test))\n",
        "\n",
        "    importancias=pd.DataFrame()\n",
        "\n",
        "    importancias['variable']=features\n",
        "    \n",
        "    \n",
        "    cat_ind=[features.index(x) for x in categorical if x in features]\n",
        "    \n",
        "    dict_cat={}\n",
        "    \n",
        "    categorical_numerical = data[categorical].dropna().select_dtypes(include=np.number).columns.tolist()\n",
        "    \n",
        "    categorical_transform=[x for x in categorical if x not in categorical_numerical]\n",
        "    \n",
        "    for l in categorical_transform:\n",
        "        le = preprocessing.LabelEncoder()\n",
        "        le.fit(list(data[l].dropna())+list(test[l].dropna()))\n",
        "\n",
        "        dict_cat[l]=le\n",
        "\n",
        "        data.loc[~data[l].isnull(),l]=le.transform(data.loc[~data[l].isnull(),l])\n",
        "        test.loc[~test[l].isnull(),l]=le.transform(test.loc[~test[l].isnull(),l])\n",
        "        \n",
        "        \n",
        "\n",
        "    for train_index,test_index in kfold.split(data,data[target],data['Year_Factor']):\n",
        "\n",
        "        lgb_data_train = lgb.Dataset(data.loc[train_index,features].values,data.loc[train_index,target].values)\n",
        "        lgb_data_eval = lgb.Dataset(data.loc[test_index,features].values,data.loc[test_index,target].values, reference=lgb_data_train)\n",
        "\n",
        "        params = {\n",
        "            'task': 'train',\n",
        "            'boosting_type': 'gbdt',\n",
        "            'objective': 'regression',\n",
        "            #'device_type':'gpu',\n",
        "            'metric': { 'rmse'},\n",
        "            'num_iterations':7000,\n",
        "            'max_bin':5395,\n",
        "            \"max_depth\":12,\n",
        "            \"num_leaves\":52,\n",
        "            'learning_rate': 0.8727,\n",
        "            \"min_child_samples\": 100,\n",
        "            'feature_fraction': 0.9,\n",
        "            \"bagging_freq\":1,\n",
        "            'bagging_fraction': 0.9,\n",
        "            \"lambda_l1\":10,\n",
        "            \"lambda_l2\":10,\n",
        "            \"scale_pos_weight\":30,\n",
        "            'min_data_per_group':500,\n",
        "            'verbose': 1    \n",
        "        }\n",
        "\n",
        "\n",
        "\n",
        "\n",
        "        modelo = lgb.train(params,\n",
        "                           lgb_data_train,\n",
        "                           num_boost_round=99990,\n",
        "                           valid_sets=lgb_data_eval,\n",
        "                           early_stopping_rounds=140,\n",
        "                           verbose_eval=250,\n",
        "                           categorical_feature=cat_ind\n",
        "                          )\n",
        "\n",
        "        importancias['gain_'+str(i)]=modelo.feature_importance(importance_type=\"gain\")\n",
        "\n",
        "\n",
        "        data.loc[test_index,'estimator']=modelo.predict(data.loc[test_index,features].values, num_iteration=modelo.best_iteration)\n",
        "        \n",
        "        pred_test=pred_test+modelo.predict(test[features].values, num_iteration=modelo.best_iteration)\n",
        "\n",
        "        print (\"Fold_\"+str(i))\n",
        "        a= (mean_squared_error(data.loc[test_index,target],data.loc[test_index,'estimator']))**0.5\n",
        "        r.append(a)\n",
        "        print (a)\n",
        "        print (\"\")\n",
        "\n",
        "        i=i+1\n",
        "        \n",
        "    for l in categorical_transform:\n",
        "\n",
        "            data.loc[~data[l].isnull(),l]=dict_cat[l].inverse_transform(data.loc[~data[l].isnull(),l].astype(int))\n",
        "            \n",
        "            test.loc[~test[l].isnull(),l]=dict_cat[l].inverse_transform(test.loc[~test[l].isnull(),l].astype(int))\n",
        "            \n",
        "    importancias[\"gain_avg\"]=importancias[[\"gain_1\",\"gain_2\",\"gain_3\",\"gain_4\",\"gain_5\"]].mean(axis=1)\n",
        "    importancias=importancias.sort_values(\"gain_avg\",ascending=False).reset_index(drop=True)\n",
        "    \n",
        "    pred_test=(pred_test/6)\n",
        "    \n",
        "    \n",
        "    oof=(mean_squared_error(data[target],data['estimator']))**0.5\n",
        "    \n",
        "    print (oof)\n",
        "    print (\"mean: \"+str(np.mean(np.array(r))))\n",
        "    print (\"std: \"+str(np.std(np.array(r))))\n",
        "    \n",
        "    dict_resultados={}\n",
        "    \n",
        "    dict_resultados['importancias']=importancias\n",
        "    \n",
        "    dict_resultados['predicciones']=pred_test\n",
        "    \n",
        "    \n",
        "    \n",
        "    return dict_resultados"
      ]
    },
    {
      "cell_type": "code",
      "execution_count": null,
      "metadata": {
        "execution": {
          "iopub.execute_input": "2022-02-26T17:10:38.778089Z",
          "iopub.status.busy": "2022-02-26T17:10:38.777851Z",
          "iopub.status.idle": "2022-02-26T17:10:38.791327Z",
          "shell.execute_reply": "2022-02-26T17:10:38.790595Z",
          "shell.execute_reply.started": "2022-02-26T17:10:38.778056Z"
        },
        "id": "FJW8VtcpQb5l",
        "trusted": true
      },
      "outputs": [],
      "source": [
        "no_usar=['site_eui','id']\n",
        "\n",
        "target='site_eui'\n",
        "\n",
        "categorical=['Year_Factor','State_Factor','building_class','facility_type']\n",
        "\n",
        "features=[x for x in df_train.columns if x not in no_usar]\n",
        "features\n"
      ]
    },
    {
      "cell_type": "code",
      "execution_count": null,
      "metadata": {
        "_kg_hide-output": true,
        "execution": {
          "iopub.execute_input": "2022-02-26T17:10:38.792778Z",
          "iopub.status.busy": "2022-02-26T17:10:38.792457Z",
          "iopub.status.idle": "2022-02-26T17:10:58.958083Z",
          "shell.execute_reply": "2022-02-26T17:10:58.957294Z",
          "shell.execute_reply.started": "2022-02-26T17:10:38.792744Z"
        },
        "id": "14VL4jrhQb5l",
        "trusted": true
      },
      "outputs": [],
      "source": [
        "dict_resultados=entrena_lgb(data=df_train,test=df_test,features=features,categorical=categorical,target=target)"
      ]
    },
    {
      "cell_type": "code",
      "execution_count": null,
      "metadata": {
        "execution": {
          "iopub.execute_input": "2022-02-26T17:10:58.959742Z",
          "iopub.status.busy": "2022-02-26T17:10:58.959486Z",
          "iopub.status.idle": "2022-02-26T17:10:58.975132Z",
          "shell.execute_reply": "2022-02-26T17:10:58.974481Z",
          "shell.execute_reply.started": "2022-02-26T17:10:58.959708Z"
        },
        "id": "sEt42IQ6Qb5m",
        "trusted": true
      },
      "outputs": [],
      "source": [
        "dict_resultados['importancias'].head(7)"
      ]
    },
    {
      "cell_type": "code",
      "execution_count": null,
      "metadata": {
        "execution": {
          "iopub.execute_input": "2022-02-26T17:10:58.977129Z",
          "iopub.status.busy": "2022-02-26T17:10:58.976648Z",
          "iopub.status.idle": "2022-02-26T17:10:58.983895Z",
          "shell.execute_reply": "2022-02-26T17:10:58.983167Z",
          "shell.execute_reply.started": "2022-02-26T17:10:58.977094Z"
        },
        "id": "HzaFB9MoQb5m",
        "trusted": true
      },
      "outputs": [],
      "source": [
        "temp=dict_resultados['importancias']\n",
        "\n",
        "features_selected=temp['variable'].tolist()[0:4]"
      ]
    },
    {
      "cell_type": "code",
      "execution_count": null,
      "metadata": {
        "_kg_hide-output": true,
        "execution": {
          "iopub.execute_input": "2022-02-26T17:10:58.986798Z",
          "iopub.status.busy": "2022-02-26T17:10:58.986451Z",
          "iopub.status.idle": "2022-02-26T17:13:12.718238Z",
          "shell.execute_reply": "2022-02-26T17:13:12.717491Z",
          "shell.execute_reply.started": "2022-02-26T17:10:58.986770Z"
        },
        "id": "_OBWJTmEQb5m",
        "trusted": true
      },
      "outputs": [],
      "source": [
        "dict_resultados_2=entrena_lgb(data=df_train,test=df_test,features=features_selected,categorical=categorical,target=target)"
      ]
    },
    {
      "cell_type": "code",
      "execution_count": null,
      "metadata": {
        "execution": {
          "iopub.execute_input": "2022-02-26T17:13:12.720786Z",
          "iopub.status.busy": "2022-02-26T17:13:12.719409Z",
          "iopub.status.idle": "2022-02-26T17:13:12.779235Z",
          "shell.execute_reply": "2022-02-26T17:13:12.778380Z",
          "shell.execute_reply.started": "2022-02-26T17:13:12.720745Z"
        },
        "id": "fH_Cjp1NQb5m",
        "trusted": true
      },
      "outputs": [],
      "source": [
        "df_train.groupby([ 'State_Factor', 'building_class', 'facility_type',\n",
        "       'floor_area', 'year_built', 'energy_star_rating', 'ELEVATION']).size()"
      ]
    },
    {
      "cell_type": "code",
      "execution_count": null,
      "metadata": {
        "execution": {
          "iopub.execute_input": "2022-02-26T17:13:12.781010Z",
          "iopub.status.busy": "2022-02-26T17:13:12.780757Z",
          "iopub.status.idle": "2022-02-26T17:13:12.833733Z",
          "shell.execute_reply": "2022-02-26T17:13:12.832919Z",
          "shell.execute_reply.started": "2022-02-26T17:13:12.780975Z"
        },
        "id": "OktNJriZQb5m",
        "trusted": true
      },
      "outputs": [],
      "source": [
        "df_train.groupby([ 'State_Factor', 'building_class', 'facility_type',\n",
        "       'floor_area', 'year_built', 'energy_star_rating', 'ELEVATION']).size().value_counts()"
      ]
    },
    {
      "cell_type": "code",
      "execution_count": null,
      "metadata": {
        "execution": {
          "iopub.execute_input": "2022-02-26T17:13:12.835342Z",
          "iopub.status.busy": "2022-02-26T17:13:12.835085Z",
          "iopub.status.idle": "2022-02-26T17:13:12.888070Z",
          "shell.execute_reply": "2022-02-26T17:13:12.887236Z",
          "shell.execute_reply.started": "2022-02-26T17:13:12.835308Z"
        },
        "id": "HsM11t8yQb5m",
        "trusted": true
      },
      "outputs": [],
      "source": [
        "df_train.groupby([ 'State_Factor', 'building_class', 'facility_type',\n",
        "       'floor_area', 'year_built',  'ELEVATION']).size().value_counts()"
      ]
    },
    {
      "cell_type": "code",
      "execution_count": null,
      "metadata": {
        "execution": {
          "iopub.execute_input": "2022-02-26T17:13:12.889808Z",
          "iopub.status.busy": "2022-02-26T17:13:12.889527Z",
          "iopub.status.idle": "2022-02-26T17:13:12.894075Z",
          "shell.execute_reply": "2022-02-26T17:13:12.893257Z",
          "shell.execute_reply.started": "2022-02-26T17:13:12.889773Z"
        },
        "id": "zBSl8_WvQb5n",
        "trusted": true
      },
      "outputs": [],
      "source": [
        "features_selected_2=list(features_selected)\n",
        "\n",
        "features_selected_2.extend(['State_Factor'])"
      ]
    },
    {
      "cell_type": "code",
      "execution_count": null,
      "metadata": {
        "_kg_hide-output": true,
        "execution": {
          "iopub.execute_input": "2022-02-26T17:13:12.895591Z",
          "iopub.status.busy": "2022-02-26T17:13:12.895270Z",
          "iopub.status.idle": "2022-02-26T17:15:21.903530Z",
          "shell.execute_reply": "2022-02-26T17:15:21.902767Z",
          "shell.execute_reply.started": "2022-02-26T17:13:12.895489Z"
        },
        "id": "qbl3MrdwQb5n",
        "trusted": true
      },
      "outputs": [],
      "source": [
        "dict_resultados_3=entrena_lgb(data=df_train,test=df_test,features=features_selected_2,categorical=categorical,target=target)"
      ]
    },
    {
      "cell_type": "code",
      "execution_count": null,
      "metadata": {
        "_kg_hide-input": true,
        "_kg_hide-output": true,
        "execution": {
          "iopub.execute_input": "2022-02-26T17:15:21.907285Z",
          "iopub.status.busy": "2022-02-26T17:15:21.907083Z",
          "iopub.status.idle": "2022-02-26T17:15:21.913540Z",
          "shell.execute_reply": "2022-02-26T17:15:21.912624Z",
          "shell.execute_reply.started": "2022-02-26T17:15:21.907257Z"
        },
        "id": "e3e736YiQb5n",
        "trusted": true
      },
      "outputs": [],
      "source": [
        "\"\"\"\n",
        "variables=['facility_type',\n",
        " 'energy_star_rating',\n",
        " 'year_built',\n",
        "# 'floor_area',\n",
        " 'State_Factor'\n",
        "          ]\n",
        "\n",
        "df_train['combination_variables']=df_train[variables].apply(lambda row: '_'.join(row.values.astype(str)), axis=1)\n",
        "df_test['combination_variables']=df_test[variables].apply(lambda row: '_'.join(row.values.astype(str)), axis=1)\n",
        "\n",
        "features_selected_3=list(features_selected_2)\n",
        "features_selected_3.extend(['combination_variables','january_min_temp'])\n",
        "\n",
        "categorical.extend(['combination_variables'])\n",
        "\n",
        "\n",
        "dict_resultados_4=entrena_lgb(data=df_train,test=df_test,features=features_selected_3,categorical=categorical,target=target)\n",
        "\n",
        "dict_resultados_4['importancias']\n",
        "\"\"\""
      ]
    },
    {
      "cell_type": "code",
      "execution_count": null,
      "metadata": {
        "execution": {
          "iopub.execute_input": "2022-02-26T17:15:21.917352Z",
          "iopub.status.busy": "2022-02-26T17:15:21.916950Z",
          "iopub.status.idle": "2022-02-26T17:15:21.935194Z",
          "shell.execute_reply": "2022-02-26T17:15:21.929365Z",
          "shell.execute_reply.started": "2022-02-26T17:15:21.917312Z"
        },
        "id": "Ut7sGsWEQb5o",
        "trusted": true
      },
      "outputs": [],
      "source": [
        "df_test['site_eui']=(dict_resultados_2['predicciones'].copy()+dict_resultados_3['predicciones'].copy())/2"
      ]
    },
    {
      "cell_type": "code",
      "execution_count": null,
      "metadata": {
        "execution": {
          "iopub.execute_input": "2022-02-26T17:15:21.941319Z",
          "iopub.status.busy": "2022-02-26T17:15:21.937453Z",
          "iopub.status.idle": "2022-02-26T17:15:21.959517Z",
          "shell.execute_reply": "2022-02-26T17:15:21.958855Z",
          "shell.execute_reply.started": "2022-02-26T17:15:21.941279Z"
        },
        "id": "OlP3rmuuQb5o",
        "trusted": true
      },
      "outputs": [],
      "source": [
        "df_test[['id','site_eui']]"
      ]
    },
    {
      "cell_type": "code",
      "execution_count": null,
      "metadata": {
        "execution": {
          "iopub.execute_input": "2022-02-26T17:15:21.961290Z",
          "iopub.status.busy": "2022-02-26T17:15:21.960752Z",
          "iopub.status.idle": "2022-02-26T17:15:22.028134Z",
          "shell.execute_reply": "2022-02-26T17:15:22.027039Z",
          "shell.execute_reply.started": "2022-02-26T17:15:21.961253Z"
        },
        "id": "UQtkvdvbQb5o",
        "trusted": true
      },
      "outputs": [],
      "source": [
        "df_test[['id','site_eui']].to_csv('Test_LightBGM(V1.8).csv',index=False)"
      ]
    }
  ],
  "metadata": {
    "colab": {
      "provenance": []
    },
    "kernelspec": {
      "display_name": "Python 3",
      "language": "python",
      "name": "python3"
    },
    "language_info": {
      "codemirror_mode": {
        "name": "ipython",
        "version": 3
      },
      "file_extension": ".py",
      "mimetype": "text/x-python",
      "name": "python",
      "nbconvert_exporter": "python",
      "pygments_lexer": "ipython3",
      "version": "3.7.12"
    }
  },
  "nbformat": 4,
  "nbformat_minor": 0
}
